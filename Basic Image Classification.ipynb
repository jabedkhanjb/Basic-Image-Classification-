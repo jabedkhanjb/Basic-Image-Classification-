{
 "cells": [
  {
   "cell_type": "code",
   "execution_count": 8,
   "id": "452a93c2",
   "metadata": {},
   "outputs": [
    {
     "name": "stdout",
     "output_type": "stream",
     "text": [
      "Using TensorFlow version 2.9.1\n"
     ]
    }
   ],
   "source": [
    "import tensorflow as tf\n",
    "\n",
    "tf.compat.v1.logging.set_verbosity(tf.compat.v1.logging.ERROR)\n",
    "print('Using TensorFlow version', tf.__version__)"
   ]
  },
  {
   "cell_type": "markdown",
   "id": "a091dbbf",
   "metadata": {},
   "source": [
    "# Data Set (import MNIST)"
   ]
  },
  {
   "cell_type": "code",
   "execution_count": 11,
   "id": "6a93d7d7",
   "metadata": {},
   "outputs": [],
   "source": [
    "from tensorflow.keras.datasets import mnist"
   ]
  },
  {
   "cell_type": "code",
   "execution_count": 12,
   "id": "6739e46f",
   "metadata": {},
   "outputs": [],
   "source": [
    "(xtrain, ytrain), (xtest, ytest) = mnist.load_data()"
   ]
  },
  {
   "cell_type": "markdown",
   "id": "aa487efe",
   "metadata": {},
   "source": [
    "# Shapes of Imported Arrays"
   ]
  },
  {
   "cell_type": "code",
   "execution_count": 16,
   "id": "f30e08da",
   "metadata": {},
   "outputs": [
    {
     "name": "stdout",
     "output_type": "stream",
     "text": [
      "xtrain shape:  (60000, 28, 28)\n",
      "ytrain shape:  (60000,)\n",
      "xtest shape:  (10000, 28, 28)\n",
      "ytest shape:  (10000,)\n"
     ]
    }
   ],
   "source": [
    "print(\"xtrain shape: \", xtrain.shape)\n",
    "print(\"ytrain shape: \", ytrain.shape)\n",
    "print(\"xtest shape: \", xtest.shape)\n",
    "print(\"ytest shape: \", ytest.shape)"
   ]
  },
  {
   "cell_type": "markdown",
   "id": "d955f116",
   "metadata": {},
   "source": [
    "28 rows and 28 columns, so height and width would be 28 pixels.\n",
    "60000 and 10000 represents the example of training and testing"
   ]
  },
  {
   "cell_type": "markdown",
   "id": "48a0cdc6",
   "metadata": {},
   "source": [
    "# Plot an Image Example"
   ]
  },
  {
   "cell_type": "code",
   "execution_count": 24,
   "id": "aef86253",
   "metadata": {},
   "outputs": [
    {
     "data": {
      "image/png": "[encoded data removed]",
      "text/plain": [
       "<Figure size 640x480 with 1 Axes>"
      ]
     },
     "metadata": {},
     "output_type": "display_data"
    }
   ],
   "source": [
    "import matplotlib.pyplot as plt\n",
    "%matplotlib inline\n",
    "\n",
    "plt.imshow(xtrain[1562], cmap = \"binary\")\n",
    "plt.show()"
   ]
  },
  {
   "cell_type": "markdown",
   "id": "652cd308",
   "metadata": {},
   "source": [
    "#### can get access of 60000 examples of train data set by putting the index number in xtrain"
   ]
  },
  {
   "cell_type": "markdown",
   "id": "3e4cc98f",
   "metadata": {},
   "source": [
    "# Display Labels"
   ]
  },
  {
   "cell_type": "code",
   "execution_count": null,
   "id": "e07d0aea",
   "metadata": {},
   "outputs": [],
   "source": []
  }
 ],
 "metadata": {
  "kernelspec": {
   "display_name": "Python 3 (ipykernel)",
   "language": "python",
   "name": "python3"
  },
  "language_info": {
   "codemirror_mode": {
    "name": "ipython",
    "version": 3
   },
   "file_extension": ".py",
   "mimetype": "text/x-python",
   "name": "python",
   "nbconvert_exporter": "python",
   "pygments_lexer": "ipython3",
   "version": "3.9.13"
  }
 },
 "nbformat": 4,
 "nbformat_minor": 5
}
